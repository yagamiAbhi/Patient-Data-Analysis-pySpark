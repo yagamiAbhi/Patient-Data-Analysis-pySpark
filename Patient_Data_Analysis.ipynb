{
  "nbformat": 4,
  "nbformat_minor": 0,
  "metadata": {
    "colab": {
      "provenance": [],
      "authorship_tag": "ABX9TyMmuR4gnD2eTYFMMdaGchI/",
      "include_colab_link": true
    },
    "kernelspec": {
      "name": "python3",
      "display_name": "Python 3"
    },
    "language_info": {
      "name": "python"
    }
  },
  "cells": [
    {
      "cell_type": "markdown",
      "metadata": {
        "id": "view-in-github",
        "colab_type": "text"
      },
      "source": [
        "<a href=\"https://colab.research.google.com/github/yagamiAbhi/Patient-Data-Analysis-pySpark/blob/main/Patient_Data_Analysis.ipynb\" target=\"_parent\"><img src=\"https://colab.research.google.com/assets/colab-badge.svg\" alt=\"Open In Colab\"/></a>"
      ]
    },
    {
      "cell_type": "markdown",
      "source": [
        "# Patient Data Analysis"
      ],
      "metadata": {
        "id": "zAZ00o0lcdBx"
      }
    },
    {
      "cell_type": "markdown",
      "source": [
        "Heathy-You is an international health care company working with various other hospitals globally. The company has a huge collection of the patients registering for consultation and operation at different centers.\n",
        "\n",
        "    \n",
        "Calculate the final fee to be paid by each patient during registration. It requires us to check whether a registration has insurance cover coming under the collaborated companies or not. So technical team has decided to store data on to HDFS and use Spark core and Spark SQL for processing the fee structure for calculating the final fee for a particular registration.\n",
        "    \n",
        "\n",
        "In the process of getting final fee, hospital must verify the below business rules:\n",
        "\n",
        "* Check patient’s insurance id, background status and discharge approval.\n",
        "\n",
        "* List of companies with which hospital has collaborated for insurance and reimbursement."
      ],
      "metadata": {
        "id": "uPglMXcecl50"
      }
    },
    {
      "cell_type": "code",
      "execution_count": 1,
      "metadata": {
        "colab": {
          "base_uri": "https://localhost:8080/"
        },
        "id": "dmsAyp5OcYA0",
        "outputId": "8587e57f-396e-4cb9-9697-41a0c20de804"
      },
      "outputs": [
        {
          "output_type": "stream",
          "name": "stdout",
          "text": [
            "Collecting pyspark\n",
            "  Downloading pyspark-3.5.0.tar.gz (316.9 MB)\n",
            "\u001b[2K     \u001b[90m━━━━━━━━━━━━━━━━━━━━━━━━━━━━━━━━━━━━━━━━\u001b[0m \u001b[32m316.9/316.9 MB\u001b[0m \u001b[31m4.5 MB/s\u001b[0m eta \u001b[36m0:00:00\u001b[0m\n",
            "\u001b[?25h  Preparing metadata (setup.py) ... \u001b[?25l\u001b[?25hdone\n",
            "Requirement already satisfied: py4j==0.10.9.7 in /usr/local/lib/python3.10/dist-packages (from pyspark) (0.10.9.7)\n",
            "Building wheels for collected packages: pyspark\n",
            "  Building wheel for pyspark (setup.py) ... \u001b[?25l\u001b[?25hdone\n",
            "  Created wheel for pyspark: filename=pyspark-3.5.0-py2.py3-none-any.whl size=317425344 sha256=ce4c4b0155349fc73e6b026e866ee391503916adde69fc37cc8aa7329925ff19\n",
            "  Stored in directory: /root/.cache/pip/wheels/41/4e/10/c2cf2467f71c678cfc8a6b9ac9241e5e44a01940da8fbb17fc\n",
            "Successfully built pyspark\n",
            "Installing collected packages: pyspark\n",
            "Successfully installed pyspark-3.5.0\n"
          ]
        }
      ],
      "source": [
        "pip install pyspark"
      ]
    },
    {
      "cell_type": "code",
      "source": [
        "from pyspark.context import SparkContext\n",
        "from pyspark.sql import SparkSession\n",
        "sc = SparkContext.getOrCreate()\n",
        "spark = SparkSession(sc)"
      ],
      "metadata": {
        "id": "vGh8Dt9odWTq"
      },
      "execution_count": 2,
      "outputs": []
    },
    {
      "cell_type": "markdown",
      "source": [
        "### 1. Creating RDDs"
      ],
      "metadata": {
        "id": "cZltRnyQejfy"
      }
    },
    {
      "cell_type": "code",
      "source": [
        "patientRegistrationRDD = sc.textFile('/content/PatientRegistrationData.csv')\n",
        "billTillDateRDD = sc.textFile('/content/BillTillDate.txt')\n",
        "companyInsuranceRDD = sc.textFile('/content/CompanyInsuranceData.csv')"
      ],
      "metadata": {
        "id": "dIItMeXRenij"
      },
      "execution_count": 3,
      "outputs": []
    },
    {
      "cell_type": "code",
      "source": [
        "patientRegistrationRDD = patientRegistrationRDD.map(lambda c:c.split(','))\n",
        "billTillDateRDD = billTillDateRDD.map(lambda c:c.split('\\t'))\n",
        "companyInsuranceRDD = companyInsuranceRDD.map(lambda c:c.split(','))"
      ],
      "metadata": {
        "id": "o3YlJSQXfAVu"
      },
      "execution_count": 4,
      "outputs": []
    },
    {
      "cell_type": "code",
      "source": [
        "companyInsuranceRDD .take(2)"
      ],
      "metadata": {
        "colab": {
          "base_uri": "https://localhost:8080/"
        },
        "id": "z8Fuz9a5fQ63",
        "outputId": "8d4d9f7d-01a5-429a-cae1-f99500918b3a"
      },
      "execution_count": 5,
      "outputs": [
        {
          "output_type": "execute_result",
          "data": {
            "text/plain": [
              "[['Tincidunt Donec Vitae Ltd', 'K1N 7B5', '94', '500000'],\n",
              " ['Tellus Justo Sit LLC', 'I7J 4Z6', '80', '500000']]"
            ]
          },
          "metadata": {},
          "execution_count": 5
        }
      ]
    },
    {
      "cell_type": "markdown",
      "source": [
        "### 2. Create a separate RDD as patientToBeDischargedRDD for those patients whose background status is “COMPLETED” and discharge approval is “POSITIVE”"
      ],
      "metadata": {
        "id": "e_CYnu09f_tY"
      }
    },
    {
      "cell_type": "code",
      "source": [
        "patientToBeDischargedRDD = patientRegistrationRDD.filter(lambda c : c[9]=='COMPLETED' and c[10]=='POSITIVE')"
      ],
      "metadata": {
        "id": "O14cQsu0gAMa"
      },
      "execution_count": 6,
      "outputs": []
    },
    {
      "cell_type": "code",
      "source": [
        "patientToBeDischargedRDD.map(lambda c : c[9]).distinct().collect()"
      ],
      "metadata": {
        "colab": {
          "base_uri": "https://localhost:8080/"
        },
        "id": "gE0nl44GhnRO",
        "outputId": "8213384b-f65c-4b56-995a-cc872086b69b"
      },
      "execution_count": 7,
      "outputs": [
        {
          "output_type": "execute_result",
          "data": {
            "text/plain": [
              "['COMPLETED']"
            ]
          },
          "metadata": {},
          "execution_count": 7
        }
      ]
    },
    {
      "cell_type": "markdown",
      "source": [
        "### 3. Converting RDDs into respective Dataframes"
      ],
      "metadata": {
        "id": "hKwuajtDjeW_"
      }
    },
    {
      "cell_type": "code",
      "source": [
        "from collections import namedtuple\n",
        "\n",
        "patient=namedtuple('patient',['RegNo', 'PatientName', 'Age', 'DBO', 'Gender', 'BloodG', 'Department',\n",
        "                            'Doctor', 'InsuranceId', 'BackgroundStatus', 'DischargeApproval'])\n",
        "\n",
        "bill=namedtuple('bill',['RegNo', 'AmountPaid', 'TotalAmount'])\n",
        "\n",
        "company=namedtuple('company',['CompanyName', 'InsuranceId', 'PercentCover', 'Limit'])"
      ],
      "metadata": {
        "id": "jhNC8STEjmhK"
      },
      "execution_count": 8,
      "outputs": []
    },
    {
      "cell_type": "code",
      "source": [
        "patientRegistrationDf = patientRegistrationRDD.map(lambda c: patient(c[0],c[1],c[2],c[3],c[4],c[5],c[6],c[7],c[8],c[9],c[10])).toDF()\n",
        "billTillDateDf = billTillDateRDD.map(lambda c: bill(c[0],int(c[1]),int(c[2]))).toDF()\n",
        "companyInsuranceDf = companyInsuranceRDD.map(lambda c: company(c[0],c[1],int(c[2]),int(c[3]))).toDF()\n",
        "patientToBeDischargedDf = patientToBeDischargedRDD.map(lambda c: patient(c[0],c[1],c[2],c[3],c[4],c[5],c[6],c[7],c[8],c[9],c[10])).toDF()"
      ],
      "metadata": {
        "id": "kNaFrQ8QlIIF"
      },
      "execution_count": 9,
      "outputs": []
    },
    {
      "cell_type": "code",
      "source": [
        "patientRegistrationDf.printSchema()\n",
        "billTillDateDf.printSchema()\n",
        "companyInsuranceDf.printSchema()\n",
        "patientToBeDischargedDf.printSchema()"
      ],
      "metadata": {
        "colab": {
          "base_uri": "https://localhost:8080/"
        },
        "id": "2k_EOOimnU4a",
        "outputId": "a1da0360-8438-4a2f-a495-16ffcd2e73d9"
      },
      "execution_count": 10,
      "outputs": [
        {
          "output_type": "stream",
          "name": "stdout",
          "text": [
            "root\n",
            " |-- RegNo: string (nullable = true)\n",
            " |-- PatientName: string (nullable = true)\n",
            " |-- Age: string (nullable = true)\n",
            " |-- DBO: string (nullable = true)\n",
            " |-- Gender: string (nullable = true)\n",
            " |-- BloodG: string (nullable = true)\n",
            " |-- Department: string (nullable = true)\n",
            " |-- Doctor: string (nullable = true)\n",
            " |-- InsuranceId: string (nullable = true)\n",
            " |-- BackgroundStatus: string (nullable = true)\n",
            " |-- DischargeApproval: string (nullable = true)\n",
            "\n",
            "root\n",
            " |-- RegNo: string (nullable = true)\n",
            " |-- AmountPaid: long (nullable = true)\n",
            " |-- TotalAmount: long (nullable = true)\n",
            "\n",
            "root\n",
            " |-- CompanyName: string (nullable = true)\n",
            " |-- InsuranceId: string (nullable = true)\n",
            " |-- PercentCover: long (nullable = true)\n",
            " |-- Limit: long (nullable = true)\n",
            "\n",
            "root\n",
            " |-- RegNo: string (nullable = true)\n",
            " |-- PatientName: string (nullable = true)\n",
            " |-- Age: string (nullable = true)\n",
            " |-- DBO: string (nullable = true)\n",
            " |-- Gender: string (nullable = true)\n",
            " |-- BloodG: string (nullable = true)\n",
            " |-- Department: string (nullable = true)\n",
            " |-- Doctor: string (nullable = true)\n",
            " |-- InsuranceId: string (nullable = true)\n",
            " |-- BackgroundStatus: string (nullable = true)\n",
            " |-- DischargeApproval: string (nullable = true)\n",
            "\n"
          ]
        }
      ]
    },
    {
      "cell_type": "code",
      "source": [
        "companyInsuranceDf.show(5)\n",
        "patientToBeDischargedDf.show()"
      ],
      "metadata": {
        "colab": {
          "base_uri": "https://localhost:8080/"
        },
        "id": "nE_QCZG0oQgA",
        "outputId": "18530406-e517-4a77-cf0b-fa3d123c691a"
      },
      "execution_count": 11,
      "outputs": [
        {
          "output_type": "stream",
          "name": "stdout",
          "text": [
            "+--------------------+-----------+------------+------+\n",
            "|         CompanyName|InsuranceId|PercentCover| Limit|\n",
            "+--------------------+-----------+------------+------+\n",
            "|Tincidunt Donec V...|    K1N 7B5|          94|500000|\n",
            "|Tellus Justo Sit LLC|    I7J 4Z6|          80|500000|\n",
            "|Suscipit Est Inst...|    N3S 0W3|          96|500000|\n",
            "|Cras Vehicula Fou...|    U2Q 0D5|          85|500000|\n",
            "|            Lorem PC|    W7X 6Q0|          83|500000|\n",
            "+--------------------+-----------+------------+------+\n",
            "only showing top 5 rows\n",
            "\n",
            "+-----+------------------+---+---------+------+------+----------+------------+-----------+----------------+-----------------+\n",
            "|RegNo|       PatientName|Age|      DBO|Gender|BloodG|Department|      Doctor|InsuranceId|BackgroundStatus|DischargeApproval|\n",
            "+-----+------------------+---+---------+------+------+----------+------------+-----------+----------------+-----------------+\n",
            "|    1|    Fuller Foreman| 40| 3/5/1980|Female|    O+|Cardiology|Jeanie Balam|    Z0N 5K4|       COMPLETED|         POSITIVE|\n",
            "|    2|         Hoyt Page| 40| 3/6/1980|Female|    O+|Cardiology|Jeanie Balam|    K1N 7B5|       COMPLETED|         POSITIVE|\n",
            "|    3|      Lance Riddle| 40| 3/7/1980|Female|    O+|Cardiology|Jeanie Balam|    I7J 4Z6|       COMPLETED|         POSITIVE|\n",
            "|    4|     Maris Vazquez| 40| 3/8/1980|Female|    O+|Cardiology|Jeanie Balam|    N3S 0W3|       COMPLETED|         POSITIVE|\n",
            "|    5|Jocelyn Livingston| 40| 3/9/1980|Female|    O+|Cardiology|Jeanie Balam|    U2Q 0D5|       COMPLETED|         POSITIVE|\n",
            "|    6| Stephanie England| 40|3/10/1980|Female|    O+|Cardiology|Jeanie Balam|    W7X 6Q0|       COMPLETED|         POSITIVE|\n",
            "|    7|     Vivian Jordan| 40|3/11/1980|Female|    O+|Cardiology|Jeanie Balam|    L5M 8I8|       COMPLETED|         POSITIVE|\n",
            "|    8|        Edan Hayes| 40|3/12/1980|Female|    O+|Cardiology|Jeanie Balam|    L6Z 6X8|       COMPLETED|         POSITIVE|\n",
            "|    9|     Carson Parker| 40|3/13/1980|Female|    O+|Cardiology|Jeanie Balam|    W2I 9J9|       COMPLETED|         POSITIVE|\n",
            "|   10|    MacKenzie Frye| 40|3/14/1980|Female|    O+|Cardiology|Jeanie Balam|    T9A 3K5|       COMPLETED|         POSITIVE|\n",
            "|   11|      Logan Morgan| 40|3/15/1980|Female|    O+|Cardiology|Jeanie Balam|    P4A 5A9|       COMPLETED|         POSITIVE|\n",
            "|   12|     Freya Bennett| 40|3/16/1980|Female|    O+|Cardiology|Jeanie Balam|    L2T 3S0|       COMPLETED|         POSITIVE|\n",
            "|   13|     Gannon Dawson| 40|3/17/1980|Female|    O+|Cardiology|Jeanie Balam|    L1R 7L1|       COMPLETED|         POSITIVE|\n",
            "|   14|     Peter Wilkins| 40|3/18/1980|Female|    O+|Cardiology|Jeanie Balam|    C0T 7S4|       COMPLETED|         POSITIVE|\n",
            "|   15|   Charles Sherman| 40|3/19/1980|Female|    O+|Cardiology|Jeanie Balam|    M0B 3B6|       COMPLETED|         POSITIVE|\n",
            "|   16|     Fuller Suarez| 40|3/20/1980|Female|    O+|Cardiology|Jeanie Balam|    X6X 1B0|       COMPLETED|         POSITIVE|\n",
            "|   17|   Aphrodite Stout| 40|3/21/1980|Female|    O+|Cardiology|Jeanie Balam|    H8K 5H7|       COMPLETED|         POSITIVE|\n",
            "|   18|  Ursula Underwood| 40|3/22/1980|Female|    O+|Cardiology|Jeanie Balam|    K3A 8E5|       COMPLETED|         POSITIVE|\n",
            "|   19|      Abdul Stuart| 40|3/23/1980|Female|    O+|Cardiology|Jeanie Balam|    B4D 1R2|       COMPLETED|         POSITIVE|\n",
            "|   20|   Octavius Knight| 40|3/24/1980|Female|    O+|Cardiology|Jeanie Balam|    W6L 5X0|       COMPLETED|         POSITIVE|\n",
            "+-----+------------------+---+---------+------+------+----------+------------+-----------+----------------+-----------------+\n",
            "only showing top 20 rows\n",
            "\n"
          ]
        }
      ]
    },
    {
      "cell_type": "markdown",
      "source": [
        "### 4. Check whether InsuranceId in patientToBeDischargedDf matches with any InsuranceId in companyInsuranceDf. Consider the patient with RegNo=18 for this requirement"
      ],
      "metadata": {
        "id": "F-wr0W3k5zYY"
      }
    },
    {
      "cell_type": "code",
      "source": [
        "if patientToBeDischargedDf.select('InsuranceId').filter('RegNo=\"18\"').collect()[0] in companyInsuranceDf.select('InsuranceId').collect():\n",
        "  print('True')"
      ],
      "metadata": {
        "colab": {
          "base_uri": "https://localhost:8080/"
        },
        "id": "FQN15VrT58re",
        "outputId": "40bcc6db-64ed-4d02-d87e-b6b8c3bcc7db"
      },
      "execution_count": 12,
      "outputs": [
        {
          "output_type": "stream",
          "name": "stdout",
          "text": [
            "True\n"
          ]
        }
      ]
    },
    {
      "cell_type": "markdown",
      "source": [
        "### 5. Store the details of patient to ApprovedDf, if the InsuranceId in companyInsuranceDf and background status is “COMPLETED” and discharge approval is “POSITIVE”."
      ],
      "metadata": {
        "id": "0T9rL_iXYSrH"
      }
    },
    {
      "cell_type": "code",
      "source": [
        "#ApprovedDf = patientToBeDischargedDf.join(companyInsuranceDf, on=['InsuranceId','InsuranceId']) method 1 when col names are different\n",
        "ApprovedDf = patientToBeDischargedDf.join(companyInsuranceDf, companyInsuranceDf['InsuranceId']==patientToBeDischargedDf['InsuranceId']) #method2\n",
        "ApprovedDf.show(2)"
      ],
      "metadata": {
        "id": "Anhp8tkz7Jqk",
        "colab": {
          "base_uri": "https://localhost:8080/"
        },
        "outputId": "d1c5b5e7-1e9e-4d92-f8fa-944b37fa378e"
      },
      "execution_count": 13,
      "outputs": [
        {
          "output_type": "stream",
          "name": "stdout",
          "text": [
            "+-----+------------------+---+---------+------+------+----------+--------------+-----------+----------------+-----------------+--------------------+-----------+------------+------+\n",
            "|RegNo|       PatientName|Age|      DBO|Gender|BloodG|Department|        Doctor|InsuranceId|BackgroundStatus|DischargeApproval|         CompanyName|InsuranceId|PercentCover| Limit|\n",
            "+-----+------------------+---+---------+------+------+----------+--------------+-----------+----------------+-----------------+--------------------+-----------+------------+------+\n",
            "|   21| Meredith Guerrero| 40|3/25/1980|Female|    O+|Cardiology|  Jeanie Balam|    Y6H 8B2|       COMPLETED|         POSITIVE|Enim Sed Nulla In...|    Y6H 8B2|          91|500000|\n",
            "|  409|Jocelyn Livingston| 27|3/15/1993|Female|    A-| Neurology|Zebulen Wilden|    U2Q 0D5|       COMPLETED|         POSITIVE|Cras Vehicula Fou...|    U2Q 0D5|          85|500000|\n",
            "+-----+------------------+---+---------+------+------+----------+--------------+-----------+----------------+-----------------+--------------------+-----------+------------+------+\n",
            "only showing top 2 rows\n",
            "\n"
          ]
        }
      ]
    },
    {
      "cell_type": "markdown",
      "source": [
        "### 6. For approved patient, calculate the remaining amount to be paid from BillTillDate data"
      ],
      "metadata": {
        "id": "STjs3ZO9cANa"
      }
    },
    {
      "cell_type": "code",
      "source": [
        "billTillDateDf.show(2)"
      ],
      "metadata": {
        "colab": {
          "base_uri": "https://localhost:8080/"
        },
        "id": "JMV7nhLacDqS",
        "outputId": "a170c880-f988-4ee9-c713-ed951875becd"
      },
      "execution_count": 14,
      "outputs": [
        {
          "output_type": "stream",
          "name": "stdout",
          "text": [
            "+-----+----------+-----------+\n",
            "|RegNo|AmountPaid|TotalAmount|\n",
            "+-----+----------+-----------+\n",
            "|    1|      5000|     150000|\n",
            "|    2|      5000|     150000|\n",
            "+-----+----------+-----------+\n",
            "only showing top 2 rows\n",
            "\n"
          ]
        }
      ]
    },
    {
      "cell_type": "code",
      "source": [
        "remainingAmt = ApprovedDf.join(billTillDateDf,on='RegNo')"
      ],
      "metadata": {
        "id": "G1XFtE8fcay6"
      },
      "execution_count": 15,
      "outputs": []
    },
    {
      "cell_type": "code",
      "source": [
        "temp = remainingAmt.withColumn('RemainingAmt', remainingAmt['TotalAmount']-remainingAmt['AmountPaid'])"
      ],
      "metadata": {
        "id": "uwwn4HjOdRR2"
      },
      "execution_count": 16,
      "outputs": []
    },
    {
      "cell_type": "code",
      "source": [
        "temp.show(3)"
      ],
      "metadata": {
        "colab": {
          "base_uri": "https://localhost:8080/"
        },
        "id": "WM5Le51-cqAA",
        "outputId": "b82f07a8-0e3c-42bb-edaf-6189a232c26b"
      },
      "execution_count": 17,
      "outputs": [
        {
          "output_type": "stream",
          "name": "stdout",
          "text": [
            "+-----+-------------------+---+---------+------+------+-----------------+------------+-----------+----------------+-----------------+--------------------+-----------+------------+------+----------+-----------+------------+\n",
            "|RegNo|        PatientName|Age|      DBO|Gender|BloodG|       Department|      Doctor|InsuranceId|BackgroundStatus|DischargeApproval|         CompanyName|InsuranceId|PercentCover| Limit|AmountPaid|TotalAmount|RemainingAmt|\n",
            "+-----+-------------------+---+---------+------+------+-----------------+------------+-----------+----------------+-----------------+--------------------+-----------+------------+------+----------+-----------+------------+\n",
            "|    7|      Vivian Jordan| 40|3/11/1980|Female|    O+|       Cardiology|Jeanie Balam|    L5M 8I8|       COMPLETED|         POSITIVE|  Est Ac Corporation|    L5M 8I8|          85|500000|      5000|     150000|      145000|\n",
            "|   51|     Vielka Puckett| 40|4/24/1980|Female|    O+|       Cardiology|Jeanie Balam|    S4U 1R5|       COMPLETED|         POSITIVE|Mauris Ut Foundation|    S4U 1R5|          86|500000|      5000|     250000|      245000|\n",
            "|  169|Cheyenne Livingston| 45| 5/1/1975|Female|    A+|Infection Control| Bram Murphy|    O0L 5H3|       COMPLETED|         POSITIVE|Vitae Erat Vivamu...|    O0L 5H3|          87|800000|      6000|     250000|      244000|\n",
            "+-----+-------------------+---+---------+------+------+-----------------+------------+-----------+----------------+-----------------+--------------------+-----------+------------+------+----------+-----------+------------+\n",
            "only showing top 3 rows\n",
            "\n"
          ]
        }
      ]
    },
    {
      "cell_type": "markdown",
      "source": [
        "### 7. Calculate the amount covered by the insurance as per the percentage cover given by the company up to a certain limit."
      ],
      "metadata": {
        "id": "kWWzFF7vha0u"
      }
    },
    {
      "cell_type": "code",
      "source": [
        "from pyspark.sql.functions import when, col"
      ],
      "metadata": {
        "id": "HGjsoJtAExgZ"
      },
      "execution_count": 18,
      "outputs": []
    },
    {
      "cell_type": "code",
      "source": [
        "temp2 = temp.withColumn('AmtCovered', when( ( (temp['PercentCover']*temp['RemainingAmt'])/100 <= temp['Limit'] ), (temp['PercentCover']*temp['RemainingAmt'])/100 ).otherwise(temp['Limit']) )"
      ],
      "metadata": {
        "id": "GqSGyBW3OWmk"
      },
      "execution_count": 19,
      "outputs": []
    },
    {
      "cell_type": "code",
      "source": [
        "temp2.show(3)"
      ],
      "metadata": {
        "colab": {
          "base_uri": "https://localhost:8080/"
        },
        "id": "BS1Yn54NPdzx",
        "outputId": "d9295891-b07d-49ab-9f19-b29661385d49"
      },
      "execution_count": 20,
      "outputs": [
        {
          "output_type": "stream",
          "name": "stdout",
          "text": [
            "+-----+-------------------+---+---------+------+------+-----------------+------------+-----------+----------------+-----------------+--------------------+-----------+------------+------+----------+-----------+------------+----------+\n",
            "|RegNo|        PatientName|Age|      DBO|Gender|BloodG|       Department|      Doctor|InsuranceId|BackgroundStatus|DischargeApproval|         CompanyName|InsuranceId|PercentCover| Limit|AmountPaid|TotalAmount|RemainingAmt|AmtCovered|\n",
            "+-----+-------------------+---+---------+------+------+-----------------+------------+-----------+----------------+-----------------+--------------------+-----------+------------+------+----------+-----------+------------+----------+\n",
            "|    7|      Vivian Jordan| 40|3/11/1980|Female|    O+|       Cardiology|Jeanie Balam|    L5M 8I8|       COMPLETED|         POSITIVE|  Est Ac Corporation|    L5M 8I8|          85|500000|      5000|     150000|      145000|  123250.0|\n",
            "|   51|     Vielka Puckett| 40|4/24/1980|Female|    O+|       Cardiology|Jeanie Balam|    S4U 1R5|       COMPLETED|         POSITIVE|Mauris Ut Foundation|    S4U 1R5|          86|500000|      5000|     250000|      245000|  210700.0|\n",
            "|  169|Cheyenne Livingston| 45| 5/1/1975|Female|    A+|Infection Control| Bram Murphy|    O0L 5H3|       COMPLETED|         POSITIVE|Vitae Erat Vivamu...|    O0L 5H3|          87|800000|      6000|     250000|      244000|  212280.0|\n",
            "+-----+-------------------+---+---------+------+------+-----------------+------------+-----------+----------------+-----------------+--------------------+-----------+------------+------+----------+-----------+------------+----------+\n",
            "only showing top 3 rows\n",
            "\n"
          ]
        }
      ]
    },
    {
      "cell_type": "markdown",
      "source": [
        "### 8. Calculate the final fee by deducting the insurance covered amount from the remaining amount."
      ],
      "metadata": {
        "id": "RXKPgvrehd_F"
      }
    },
    {
      "cell_type": "code",
      "source": [
        "final = temp2.withColumn('FinalBillAmount', temp2['RemainingAmt']-temp2['AmtCovered'])\n",
        "final.show(5)"
      ],
      "metadata": {
        "colab": {
          "base_uri": "https://localhost:8080/"
        },
        "id": "r03K3-gDhnTJ",
        "outputId": "7e8f38a5-5295-43b9-d9ba-d35448206332"
      },
      "execution_count": 21,
      "outputs": [
        {
          "output_type": "stream",
          "name": "stdout",
          "text": [
            "+-----+-------------------+---+---------+------+------+-----------------+--------------+-----------+----------------+-----------------+--------------------+-----------+------------+------+----------+-----------+------------+----------+---------------+\n",
            "|RegNo|        PatientName|Age|      DBO|Gender|BloodG|       Department|        Doctor|InsuranceId|BackgroundStatus|DischargeApproval|         CompanyName|InsuranceId|PercentCover| Limit|AmountPaid|TotalAmount|RemainingAmt|AmtCovered|FinalBillAmount|\n",
            "+-----+-------------------+---+---------+------+------+-----------------+--------------+-----------+----------------+-----------------+--------------------+-----------+------------+------+----------+-----------+------------+----------+---------------+\n",
            "|    7|      Vivian Jordan| 40|3/11/1980|Female|    O+|       Cardiology|  Jeanie Balam|    L5M 8I8|       COMPLETED|         POSITIVE|  Est Ac Corporation|    L5M 8I8|          85|500000|      5000|     150000|      145000|  123250.0|        21750.0|\n",
            "|   51|     Vielka Puckett| 40|4/24/1980|Female|    O+|       Cardiology|  Jeanie Balam|    S4U 1R5|       COMPLETED|         POSITIVE|Mauris Ut Foundation|    S4U 1R5|          86|500000|      5000|     250000|      245000|  210700.0|        34300.0|\n",
            "|  169|Cheyenne Livingston| 45| 5/1/1975|Female|    A+|Infection Control|   Bram Murphy|    O0L 5H3|       COMPLETED|         POSITIVE|Vitae Erat Vivamu...|    O0L 5H3|          87|800000|      6000|     250000|      244000|  212280.0|        31720.0|\n",
            "|   15|    Charles Sherman| 40|3/19/1980|Female|    O+|       Cardiology|  Jeanie Balam|    M0B 3B6|       COMPLETED|         POSITIVE|Molestie Arcu Sed PC|    M0B 3B6|          93|500000|      5000|     150000|      145000|  134850.0|        10150.0|\n",
            "|  383|      Olivia Mercer| 30| 5/3/1990|Female|    A-|        Neurology|Zebulen Wilden|    W3O 1R2|       COMPLETED|         POSITIVE|       Etiam Limited|    W3O 1R2|          91|800000|      6500|     650000|      643500|  585585.0|        57915.0|\n",
            "+-----+-------------------+---+---------+------+------+-----------------+--------------+-----------+----------------+-----------------+--------------------+-----------+------------+------+----------+-----------+------------+----------+---------------+\n",
            "only showing top 5 rows\n",
            "\n"
          ]
        }
      ]
    },
    {
      "cell_type": "markdown",
      "source": [
        "### 9. Print RegNo, PatientName, Age, DBO, Gender, BloodG, Department, Doctor, CompanyName, FinalBillAmount on the console"
      ],
      "metadata": {
        "id": "EISQB95oQZqs"
      }
    },
    {
      "cell_type": "code",
      "source": [
        "finalDf=final.select(['RegNo','PatientName','Age','DBO','Gender','BloodG','Department','Doctor','CompanyName','FinalBillAmount'])\n",
        "finalDf.show()"
      ],
      "metadata": {
        "colab": {
          "base_uri": "https://localhost:8080/"
        },
        "id": "B2SdB6sSir3c",
        "outputId": "7440290b-4e74-4084-97ad-9477168f99b1"
      },
      "execution_count": 22,
      "outputs": [
        {
          "output_type": "stream",
          "name": "stdout",
          "text": [
            "+-----+-------------------+---+---------+------+------+-----------------+--------------+--------------------+---------------+\n",
            "|RegNo|        PatientName|Age|      DBO|Gender|BloodG|       Department|        Doctor|         CompanyName|FinalBillAmount|\n",
            "+-----+-------------------+---+---------+------+------+-----------------+--------------+--------------------+---------------+\n",
            "|    7|      Vivian Jordan| 40|3/11/1980|Female|    O+|       Cardiology|  Jeanie Balam|  Est Ac Corporation|        21750.0|\n",
            "|   51|     Vielka Puckett| 40|4/24/1980|Female|    O+|       Cardiology|  Jeanie Balam|Mauris Ut Foundation|        34300.0|\n",
            "|  169|Cheyenne Livingston| 45| 5/1/1975|Female|    A+|Infection Control|   Bram Murphy|Vitae Erat Vivamu...|        31720.0|\n",
            "|   15|    Charles Sherman| 40|3/19/1980|Female|    O+|       Cardiology|  Jeanie Balam|Molestie Arcu Sed PC|        10150.0|\n",
            "|  383|      Olivia Mercer| 30| 5/3/1990|Female|    A-|        Neurology|Zebulen Wilden|       Etiam Limited|        57915.0|\n",
            "|   54|   Danielle Vaughan| 40|4/27/1980|Female|    O+|       Cardiology|  Jeanie Balam|Orci Sem Eget Ass...|        46550.0|\n",
            "|  388|        Aquila Ford| 30| 5/8/1990|Female|    A-|        Neurology|Zebulen Wilden|Sem Pellentesque ...|        70785.0|\n",
            "|   11|       Logan Morgan| 40|3/15/1980|Female|    O+|       Cardiology|  Jeanie Balam|     Arcu Industries|         2900.0|\n",
            "|  387|     Raphael Bowman| 30| 5/7/1990|Female|    A-|        Neurology|Zebulen Wilden|    Erat Vivamus LLC|        25740.0|\n",
            "|   29|        Dante Morin| 40| 4/2/1980|Female|    O+|       Cardiology|  Jeanie Balam|        Feugiat Inc.|        15950.0|\n",
            "|   42|     Calvin Jimenez| 40|4/15/1980|Female|    O+|       Cardiology|  Jeanie Balam|   Donec Corporation|        18850.0|\n",
            "|    3|       Lance Riddle| 40| 3/7/1980|Female|    O+|       Cardiology|  Jeanie Balam|Tellus Justo Sit LLC|        29000.0|\n",
            "|  406|          Hoyt Page| 27|3/12/1993|Female|    A-|        Neurology|Zebulen Wilden|Tincidunt Donec V...|       142000.0|\n",
            "|   30|     Cassidy Slater| 40| 4/3/1980|Female|    O+|       Cardiology|  Jeanie Balam| Diam Vel Associates|        24650.0|\n",
            "|   34|         Ann Walton| 40| 4/7/1980|Female|    O+|       Cardiology|  Jeanie Balam|           Donec LLP|        15950.0|\n",
            "|  389|      Connor Ramsey| 30| 5/9/1990|Female|    A-|        Neurology|Zebulen Wilden|       Pede Cum Inc.|       102960.0|\n",
            "|   59|      Rebecca Kelly| 40| 5/2/1980|  Male|    O+|       Cardiology|  Jeanie Balam|In Ornare Sagitti...|        14700.0|\n",
            "|  162|    Ishmael Pittman| 45|4/24/1975|Female|    A+|      Haematology|   Bram Murphy|    Nec Incorporated|        43920.0|\n",
            "|  379|     Walter Delaney| 30|4/29/1990|Female|    A-|        Neurology|Zebulen Wilden|    Auctor Institute|        64350.0|\n",
            "|    8|         Edan Hayes| 40|3/12/1980|Female|    O+|       Cardiology|  Jeanie Balam|Sapien Nunc Pulvi...|        10150.0|\n",
            "+-----+-------------------+---+---------+------+------+-----------------+--------------+--------------------+---------------+\n",
            "only showing top 20 rows\n",
            "\n"
          ]
        }
      ]
    },
    {
      "cell_type": "markdown",
      "source": [
        "### 10. Create RDD with the data generated from question 9. Find out the total amount claimed from each company Patients. (Use GroupByKey() as well as ReduceByKey() transformations and see which has better performance)"
      ],
      "metadata": {
        "id": "eb0qtY2fU3d5"
      }
    },
    {
      "cell_type": "code",
      "source": [
        "#final_rdd = finalDf.rdd.mapPartitionsWithIndex( lambda idx, iterator: iter(list(iterator)[1:]) if idx == 0 else iterator)\n",
        "final_rdd = finalDf.rdd"
      ],
      "metadata": {
        "id": "l_DR3UAjU6ge"
      },
      "execution_count": 23,
      "outputs": []
    },
    {
      "cell_type": "code",
      "source": [
        "final_rdd.take(3)"
      ],
      "metadata": {
        "colab": {
          "base_uri": "https://localhost:8080/"
        },
        "id": "8BAAQBAtTC0O",
        "outputId": "c3e1e33b-6480-4fde-fcef-3006cf5858d6"
      },
      "execution_count": 24,
      "outputs": [
        {
          "output_type": "execute_result",
          "data": {
            "text/plain": [
              "[Row(RegNo='7', PatientName='Vivian Jordan', Age='40', DBO='3/11/1980', Gender='Female', BloodG='O+', Department='Cardiology', Doctor='Jeanie Balam', CompanyName='Est Ac Corporation', FinalBillAmount=21750.0),\n",
              " Row(RegNo='51', PatientName='Vielka Puckett', Age='40', DBO='4/24/1980', Gender='Female', BloodG='O+', Department='Cardiology', Doctor='Jeanie Balam', CompanyName='Mauris Ut Foundation', FinalBillAmount=34300.0),\n",
              " Row(RegNo='169', PatientName='Cheyenne Livingston', Age='45', DBO='5/1/1975', Gender='Female', BloodG='A+', Department='Infection Control', Doctor='Bram Murphy', CompanyName='Vitae Erat Vivamus LLP', FinalBillAmount=31720.0)]"
            ]
          },
          "metadata": {},
          "execution_count": 24
        }
      ]
    },
    {
      "cell_type": "code",
      "source": [
        "final_rdd.map( lambda x:(x[8],x[9]) ).take(5)"
      ],
      "metadata": {
        "colab": {
          "base_uri": "https://localhost:8080/"
        },
        "id": "Eojp0mK8X9t9",
        "outputId": "0ee21433-e34f-48e9-be87-94d36f3fe5f7"
      },
      "execution_count": 25,
      "outputs": [
        {
          "output_type": "execute_result",
          "data": {
            "text/plain": [
              "[('Est Ac Corporation', 21750.0),\n",
              " ('Mauris Ut Foundation', 34300.0),\n",
              " ('Vitae Erat Vivamus LLP', 31720.0),\n",
              " ('Molestie Arcu Sed PC', 10150.0),\n",
              " ('Etiam Limited', 57915.0)]"
            ]
          },
          "metadata": {},
          "execution_count": 25
        }
      ]
    },
    {
      "cell_type": "code",
      "source": [
        "final_rdd.map( lambda x:(x[8],x[9]) ).groupByKey().mapValues(sum).collect()"
      ],
      "metadata": {
        "colab": {
          "base_uri": "https://localhost:8080/"
        },
        "id": "aeTfHeIFZlF0",
        "outputId": "19cdeffb-01b4-425b-af3a-31d0d1202e3a"
      },
      "execution_count": 26,
      "outputs": [
        {
          "output_type": "execute_result",
          "data": {
            "text/plain": [
              "[('Est Ac Corporation', 163750.0),\n",
              " ('Mauris Ut Foundation', 284680.0),\n",
              " ('Vitae Erat Vivamus LLP', 31720.0),\n",
              " ('Molestie Arcu Sed PC', 10150.0),\n",
              " ('Etiam Limited', 57915.0),\n",
              " ('Orci Sem Eget Associates', 46550.0),\n",
              " ('Sem Pellentesque Ut Corporation', 70785.0),\n",
              " ('Arcu Industries', 2900.0),\n",
              " ('Erat Vivamus LLC', 25740.0),\n",
              " ('Feugiat Inc.', 15950.0),\n",
              " ('Donec Corporation', 18850.0),\n",
              " ('Tellus Justo Sit LLC', 171000.0),\n",
              " ('Tincidunt Donec Vitae Ltd', 150700.0),\n",
              " ('Diam Vel Associates', 24650.0),\n",
              " ('Donec LLP', 15950.0),\n",
              " ('Pede Cum Inc.', 102960.0),\n",
              " ('In Ornare Sagittis Company', 29340.0),\n",
              " ('Nec Incorporated', 88020.0),\n",
              " ('Auctor Institute', 88750.0),\n",
              " ('Sapien Nunc Pulvinar Institute', 152150.0),\n",
              " ('Ante Ipsum PC', 10150.0),\n",
              " ('Nullam LLP', 17400.0),\n",
              " ('Enim Associates', 4350.0),\n",
              " ('Sodales Elit Company', 4900.0),\n",
              " ('Lorem Fringilla Associates', 1450.0),\n",
              " ('Praesent Eu Incorporated', 12200.0),\n",
              " ('Lorem PC', 166650.0),\n",
              " ('Neque Venenatis Lacus Corp.', 27550.0),\n",
              " ('Sodales At Ltd', 12870.0),\n",
              " ('Suscipit Est Institute', 147800.0),\n",
              " ('Urna Justo Associates', 1450.0),\n",
              " ('Cras Vehicula Foundation', 163750.0),\n",
              " ('Pellentesque Eget Consulting', 89880.0),\n",
              " ('Ac Facilisis Facilisis Corp.', 10150.0),\n",
              " ('Blandit Enim Company', 39120.0),\n",
              " ('Curabitur LLC', 21750.0),\n",
              " ('Quam Associates', 2440.0),\n",
              " ('Vitae Posuere Ltd', 43920.0),\n",
              " ('Ante Dictum Associates', 27550.0),\n",
              " ('Magnis Dis Associates', 48800.0),\n",
              " ('Lorem Lorem PC', 2900.0),\n",
              " ('A Purus Limited', 18850.0),\n",
              " ('Morbi Ltd', 1450.0),\n",
              " ('Quisque Corp.', 122265.0),\n",
              " ('Non Consulting', 88020.0),\n",
              " ('Proin PC', 90090.0),\n",
              " ('Dis LLP', 155050.0),\n",
              " ('Sed Ltd', 78240.0),\n",
              " ('Dolor Company', 14500.0),\n",
              " ('Non Incorporated', 86570.0),\n",
              " ('Ad Litora Industries', 23200.0),\n",
              " ('Lobortis Industries', 14500.0),\n",
              " ('Non Foundation', 83130.0),\n",
              " ('Et Commodo Consulting', 44940.0),\n",
              " ('Cras Consulting', 19520.0),\n",
              " ('Eu Consulting', 11600.0),\n",
              " ('Rutrum Magna Industries', 26100.0),\n",
              " ('Mauris Nulla Foundation', 14500.0),\n",
              " ('Ac Tellus Suspendisse Company', 21750.0),\n",
              " ('Libero LLC', 79875.0),\n",
              " ('Nonummy Ac Feugiat Corporation', 49000.0),\n",
              " ('Phasellus In LLC', 264290.0),\n",
              " ('Vestibulum Mauris Magna LLC', 128700.0),\n",
              " ('Tempor Erat Neque Consulting', 78240.0),\n",
              " ('Nunc LLC', 51360.0),\n",
              " ('Nam Ligula Elit Corporation', 69550.0),\n",
              " ('Aliquet Ltd', 4350.0),\n",
              " ('Mollis PC', 7320.0),\n",
              " ('Eget PC', 115830.0),\n",
              " ('Mauris Id Company', 6420.0),\n",
              " ('Suspendisse Dui Fusce Company', 29000.0),\n",
              " ('Pretium Inc.', 46360.0),\n",
              " ('Eget Lacus Industries', 14670.0),\n",
              " ('Elit Pellentesque A Corp.', 70620.0),\n",
              " ('Interdum Consulting', 250380.0),\n",
              " ('Malesuada Corporation', 5800.0),\n",
              " ('Pellentesque Ltd', 26100.0),\n",
              " ('Et Malesuada Fames Incorporated', 218280.0),\n",
              " ('Non Hendrerit Foundation', 6435.0),\n",
              " ('Euismod Foundation', 2900.0),\n",
              " ('At Arcu Vestibulum Corporation', 92910.0),\n",
              " ('Duis Ac Ltd', 27550.0),\n",
              " ('Sapien Imperdiet Incorporated', 17400.0),\n",
              " ('Lectus Convallis Est LLC', 19305.0),\n",
              " ('Vehicula Company', 18850.0),\n",
              " ('Tempor Erat Consulting', 77220.0),\n",
              " ('Lorem Auctor Quis Ltd', 36600.0),\n",
              " ('Gravida Aliquam Ltd', 4900.0),\n",
              " ('Faucibus Lectus Industries', 38520.0),\n",
              " ('Tempor LLP', 14640.0),\n",
              " ('Ipsum Curabitur Consequat Incorporated', 27550.0),\n",
              " ('Tincidunt Congue LLP', 8700.0),\n",
              " ('Mauris Ut Mi Corporation', 13050.0),\n",
              " ('Enim Sed Nulla Industries', 13050.0),\n",
              " ('Vulputate Company', 18850.0),\n",
              " ('Suspendisse Sed Dolor Company', 17080.0),\n",
              " ('Lacinia Orci Consectetuer Associates', 32100.0),\n",
              " ('Metus Eu Erat Consulting', 41650.0),\n",
              " ('Suspendisse Dui Ltd', 8700.0)]"
            ]
          },
          "metadata": {},
          "execution_count": 26
        }
      ]
    },
    {
      "cell_type": "code",
      "source": [
        "from operator import add"
      ],
      "metadata": {
        "id": "z6ki_jWaaMCS"
      },
      "execution_count": 27,
      "outputs": []
    },
    {
      "cell_type": "code",
      "source": [
        "final_rdd.map( lambda x:(x[8],x[9]) ).reduceByKey(add).collect()"
      ],
      "metadata": {
        "colab": {
          "base_uri": "https://localhost:8080/"
        },
        "id": "Y1-y-EXAZ43a",
        "outputId": "f55d3e1a-c10d-4e19-c97d-de6711b93c46"
      },
      "execution_count": 28,
      "outputs": [
        {
          "output_type": "execute_result",
          "data": {
            "text/plain": [
              "[('Est Ac Corporation', 163750.0),\n",
              " ('Mauris Ut Foundation', 284680.0),\n",
              " ('Vitae Erat Vivamus LLP', 31720.0),\n",
              " ('Molestie Arcu Sed PC', 10150.0),\n",
              " ('Etiam Limited', 57915.0),\n",
              " ('Orci Sem Eget Associates', 46550.0),\n",
              " ('Sem Pellentesque Ut Corporation', 70785.0),\n",
              " ('Arcu Industries', 2900.0),\n",
              " ('Erat Vivamus LLC', 25740.0),\n",
              " ('Feugiat Inc.', 15950.0),\n",
              " ('Donec Corporation', 18850.0),\n",
              " ('Tellus Justo Sit LLC', 171000.0),\n",
              " ('Tincidunt Donec Vitae Ltd', 150700.0),\n",
              " ('Diam Vel Associates', 24650.0),\n",
              " ('Donec LLP', 15950.0),\n",
              " ('Pede Cum Inc.', 102960.0),\n",
              " ('In Ornare Sagittis Company', 29340.0),\n",
              " ('Nec Incorporated', 88020.0),\n",
              " ('Auctor Institute', 88750.0),\n",
              " ('Sapien Nunc Pulvinar Institute', 152150.0),\n",
              " ('Ante Ipsum PC', 10150.0),\n",
              " ('Nullam LLP', 17400.0),\n",
              " ('Enim Associates', 4350.0),\n",
              " ('Sodales Elit Company', 4900.0),\n",
              " ('Lorem Fringilla Associates', 1450.0),\n",
              " ('Praesent Eu Incorporated', 12200.0),\n",
              " ('Lorem PC', 166650.0),\n",
              " ('Neque Venenatis Lacus Corp.', 27550.0),\n",
              " ('Sodales At Ltd', 12870.0),\n",
              " ('Suscipit Est Institute', 147800.0),\n",
              " ('Urna Justo Associates', 1450.0),\n",
              " ('Cras Vehicula Foundation', 163750.0),\n",
              " ('Pellentesque Eget Consulting', 89880.0),\n",
              " ('Ac Facilisis Facilisis Corp.', 10150.0),\n",
              " ('Blandit Enim Company', 39120.0),\n",
              " ('Curabitur LLC', 21750.0),\n",
              " ('Quam Associates', 2440.0),\n",
              " ('Vitae Posuere Ltd', 43920.0),\n",
              " ('Ante Dictum Associates', 27550.0),\n",
              " ('Magnis Dis Associates', 48800.0),\n",
              " ('Lorem Lorem PC', 2900.0),\n",
              " ('A Purus Limited', 18850.0),\n",
              " ('Morbi Ltd', 1450.0),\n",
              " ('Quisque Corp.', 122265.0),\n",
              " ('Non Consulting', 88020.0),\n",
              " ('Proin PC', 90090.0),\n",
              " ('Dis LLP', 155050.0),\n",
              " ('Sed Ltd', 78240.0),\n",
              " ('Dolor Company', 14500.0),\n",
              " ('Non Incorporated', 86570.0),\n",
              " ('Ad Litora Industries', 23200.0),\n",
              " ('Lobortis Industries', 14500.0),\n",
              " ('Non Foundation', 83130.0),\n",
              " ('Et Commodo Consulting', 44940.0),\n",
              " ('Cras Consulting', 19520.0),\n",
              " ('Eu Consulting', 11600.0),\n",
              " ('Rutrum Magna Industries', 26100.0),\n",
              " ('Mauris Nulla Foundation', 14500.0),\n",
              " ('Ac Tellus Suspendisse Company', 21750.0),\n",
              " ('Libero LLC', 79875.0),\n",
              " ('Nonummy Ac Feugiat Corporation', 49000.0),\n",
              " ('Phasellus In LLC', 264290.0),\n",
              " ('Vestibulum Mauris Magna LLC', 128700.0),\n",
              " ('Tempor Erat Neque Consulting', 78240.0),\n",
              " ('Nunc LLC', 51360.0),\n",
              " ('Nam Ligula Elit Corporation', 69550.0),\n",
              " ('Aliquet Ltd', 4350.0),\n",
              " ('Mollis PC', 7320.0),\n",
              " ('Eget PC', 115830.0),\n",
              " ('Mauris Id Company', 6420.0),\n",
              " ('Suspendisse Dui Fusce Company', 29000.0),\n",
              " ('Pretium Inc.', 46360.0),\n",
              " ('Eget Lacus Industries', 14670.0),\n",
              " ('Elit Pellentesque A Corp.', 70620.0),\n",
              " ('Interdum Consulting', 250380.0),\n",
              " ('Malesuada Corporation', 5800.0),\n",
              " ('Pellentesque Ltd', 26100.0),\n",
              " ('Et Malesuada Fames Incorporated', 218280.0),\n",
              " ('Non Hendrerit Foundation', 6435.0),\n",
              " ('Euismod Foundation', 2900.0),\n",
              " ('At Arcu Vestibulum Corporation', 92910.0),\n",
              " ('Duis Ac Ltd', 27550.0),\n",
              " ('Sapien Imperdiet Incorporated', 17400.0),\n",
              " ('Lectus Convallis Est LLC', 19305.0),\n",
              " ('Vehicula Company', 18850.0),\n",
              " ('Tempor Erat Consulting', 77220.0),\n",
              " ('Lorem Auctor Quis Ltd', 36600.0),\n",
              " ('Gravida Aliquam Ltd', 4900.0),\n",
              " ('Faucibus Lectus Industries', 38520.0),\n",
              " ('Tempor LLP', 14640.0),\n",
              " ('Ipsum Curabitur Consequat Incorporated', 27550.0),\n",
              " ('Tincidunt Congue LLP', 8700.0),\n",
              " ('Mauris Ut Mi Corporation', 13050.0),\n",
              " ('Enim Sed Nulla Industries', 13050.0),\n",
              " ('Vulputate Company', 18850.0),\n",
              " ('Suspendisse Sed Dolor Company', 17080.0),\n",
              " ('Lacinia Orci Consectetuer Associates', 32100.0),\n",
              " ('Metus Eu Erat Consulting', 41650.0),\n",
              " ('Suspendisse Dui Ltd', 8700.0)]"
            ]
          },
          "metadata": {},
          "execution_count": 28
        }
      ]
    }
  ]
}